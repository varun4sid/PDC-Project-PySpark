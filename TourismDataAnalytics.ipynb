{
 "cells": [
  {
   "cell_type": "code",
   "execution_count": null,
   "metadata": {
    "colab": {
     "base_uri": "https://localhost:8080/"
    },
    "executionInfo": {
     "elapsed": 73841,
     "status": "ok",
     "timestamp": 1721033351946,
     "user": {
      "displayName": "Keerthi K S",
      "userId": "03494321912049532860"
     },
     "user_tz": -330
    },
    "id": "MC4aUVS4X5zl",
    "outputId": "e2436ffd-3d25-4a88-9812-c3b47a9fa58c"
   },
   "outputs": [],
   "source": [
    "from pyspark.sql import SparkSession\n",
    "from pyspark.ml.feature import VectorAssembler\n",
    "from pyspark.ml.regression import LinearRegression\n",
    "from pyspark.ml.evaluation import RegressionEvaluator"
   ]
  },
  {
   "cell_type": "markdown",
   "metadata": {},
   "source": [
    "# Create a Spark Session"
   ]
  },
  {
   "cell_type": "code",
   "execution_count": null,
   "metadata": {
    "executionInfo": {
     "elapsed": 29768,
     "status": "ok",
     "timestamp": 1721033408297,
     "user": {
      "displayName": "Keerthi K S",
      "userId": "03494321912049532860"
     },
     "user_tz": -330
    },
    "id": "cdAGJKu2XclU"
   },
   "outputs": [
    {
     "name": "stderr",
     "output_type": "stream",
     "text": [
      "25/04/16 16:34:32 WARN Utils: Your hostname, victus resolves to a loopback address: 127.0.1.1; using 10.1.216.114 instead (on interface wlo1)\n",
      "25/04/16 16:34:32 WARN Utils: Set SPARK_LOCAL_IP if you need to bind to another address\n",
      "Setting default log level to \"WARN\".\n",
      "To adjust logging level use sc.setLogLevel(newLevel). For SparkR, use setLogLevel(newLevel).\n",
      "25/04/16 16:34:32 WARN NativeCodeLoader: Unable to load native-hadoop library for your platform... using builtin-java classes where applicable\n"
     ]
    }
   ],
   "source": [
    "spark = SparkSession.builder.appName(\"MonumentDataAnalytics\").getOrCreate()"
   ]
  },
  {
   "cell_type": "code",
   "execution_count": null,
   "metadata": {
    "colab": {
     "base_uri": "https://localhost:8080/"
    },
    "executionInfo": {
     "elapsed": 25,
     "status": "ok",
     "timestamp": 1721033408297,
     "user": {
      "displayName": "Keerthi K S",
      "userId": "03494321912049532860"
     },
     "user_tz": -330
    },
    "id": "uj43FnY3b5g9",
    "outputId": "d5275c67-5161-49bb-db50-fdd46dc77eec"
   },
   "outputs": [
    {
     "data": {
      "text/plain": [
       "[Row(Circle='Agra', Name of the Monument ='Taj Mahal', Domestic-2019-20=4429710, Foreign-2019-20=645415, Domestic-2020-21=1259892, Foreign-2020-21=9034, % Growth 2021-21/2019-20-Domestic='-71.56', % Growth 2021-21/2019-20-Foreign='-98.6'),\n",
       " Row(Circle='Agra', Name of the Monument ='Agra Fort', Domestic-2019-20=1627154, Foreign-2019-20=386522, Domestic-2020-21=371242, Foreign-2020-21=2810, % Growth 2021-21/2019-20-Domestic='-77.18', % Growth 2021-21/2019-20-Foreign='-99.27'),\n",
       " Row(Circle='Agra', Name of the Monument ='Fatehpur Sikri', Domestic-2019-20=454376, Foreign-2019-20=184751, Domestic-2020-21=107835, Foreign-2020-21=574, % Growth 2021-21/2019-20-Domestic='-76.27', % Growth 2021-21/2019-20-Foreign='-99.69'),\n",
       " Row(Circle='Agra', Name of the Monument ='Akbar Tomb Sikandra', Domestic-2019-20=229270, Foreign-2019-20=19625, Domestic-2020-21=99509, Foreign-2020-21=321, % Growth 2021-21/2019-20-Domestic='-56.6', % Growth 2021-21/2019-20-Foreign='-98.36'),\n",
       " Row(Circle='Agra', Name of the Monument ='Mariam tomb Sikandra', Domestic-2019-20=22517, Foreign-2019-20=414, Domestic-2020-21=9765, Foreign-2020-21=31, % Growth 2021-21/2019-20-Domestic='-56.63', % Growth 2021-21/2019-20-Foreign='-92.51'),\n",
       " Row(Circle='Agra', Name of the Monument ='Itimad-ud-Daulah-Tomb', Domestic-2019-20=132800, Foreign-2019-20=82692, Domestic-2020-21=41016, Foreign-2020-21=410, % Growth 2021-21/2019-20-Domestic='-69.11', % Growth 2021-21/2019-20-Foreign='-99.5'),\n",
       " Row(Circle='Agra', Name of the Monument ='Ram Bagh', Domestic-2019-20=84051, Foreign-2019-20=355, Domestic-2020-21=18599, Foreign-2020-21=54, % Growth 2021-21/2019-20-Domestic='-77.87', % Growth 2021-21/2019-20-Foreign='-84.79'),\n",
       " Row(Circle='Agra', Name of the Monument ='Mehtab Bagh', Domestic-2019-20=178574, Foreign-2019-20=62325, Domestic-2020-21=62652, Foreign-2020-21=544, % Growth 2021-21/2019-20-Domestic='-64.92', % Growth 2021-21/2019-20-Foreign='-99.13'),\n",
       " Row(Circle='Agra', Name of the Monument ='Mausoleum', Domestic-2019-20=474462, Foreign-2019-20=12536, Domestic-2020-21=91185, Foreign-2020-21=321, % Growth 2021-21/2019-20-Domestic='-80.78', % Growth 2021-21/2019-20-Foreign='-97.44'),\n",
       " Row(Circle='Lucknow', Name of the Monument ='Site of Sahet mahet', Domestic-2019-20=74597, Foreign-2019-20=13628, Domestic-2020-21=27201, Foreign-2020-21=35, % Growth 2021-21/2019-20-Domestic='-63.54', % Growth 2021-21/2019-20-Foreign='-99.74')]"
      ]
     },
     "execution_count": 3,
     "metadata": {},
     "output_type": "execute_result"
    }
   ],
   "source": [
    "data = spark.read.csv(\"India-Tourism-Statistics-2021-Table.csv\", header=True, inferSchema=True)\n",
    "\n",
    "data.head(10)"
   ]
  },
  {
   "cell_type": "markdown",
   "metadata": {},
   "source": [
    "# Data preprocessing"
   ]
  },
  {
   "cell_type": "code",
   "execution_count": null,
   "metadata": {
    "colab": {
     "base_uri": "https://localhost:8080/"
    },
    "executionInfo": {
     "elapsed": 9194,
     "status": "ok",
     "timestamp": 1721033417486,
     "user": {
      "displayName": "Keerthi K S",
      "userId": "03494321912049532860"
     },
     "user_tz": -330
    },
    "id": "jQZ1IBxMVEh2",
    "outputId": "e0671add-aac1-473c-aa29-20e826a7301f"
   },
   "outputs": [
    {
     "name": "stderr",
     "output_type": "stream",
     "text": [
      "25/04/16 16:34:39 WARN Instrumentation: [5e3511b8] regParam is zero, which might cause numerical instability and overfitting.\n"
     ]
    },
    {
     "name": "stdout",
     "output_type": "stream",
     "text": [
      "Root Mean Squared Error (RMSE): 39686.63198260554\n",
      "Coefficients: [0.23497159602669457,0.16250248405417805]\n",
      "Intercept: 14689.957907868997\n",
      "Predicted Domestic Visitors in 2020-21: 2034839.594671269\n"
     ]
    }
   ],
   "source": [
    "# 1. Data Cleaning & Transformation\n",
    "data = data.na.drop()\n",
    "\n",
    "# 2. Feature Engineering\n",
    "# Create a vector assembler to combine relevant features\n",
    "features = [\"Domestic-2019-20\", \"Foreign-2019-20\"]\n",
    "assembler = VectorAssembler(inputCols=features, outputCol=\"features\")\n",
    "data = assembler.transform(data)\n",
    "\n"
   ]
  },
  {
   "cell_type": "markdown",
   "metadata": {},
   "source": [
    "# Model training"
   ]
  },
  {
   "cell_type": "code",
   "execution_count": null,
   "metadata": {},
   "outputs": [],
   "source": [
    "# 3. Model Selection & Training\n",
    "# Create a Linear Regression model\n",
    "lr = LinearRegression(featuresCol=\"features\", labelCol=\"Domestic-2020-21\")\n",
    "\n",
    "# Split the data into training and testing sets\n",
    "(trainingData, testData) = data.randomSplit([0.8, 0.2])\n",
    "\n",
    "# Train the model on the training data\n",
    "lrModel = lr.fit(trainingData)"
   ]
  },
  {
   "cell_type": "markdown",
   "metadata": {},
   "source": [
    "# Model evaluation"
   ]
  },
  {
   "cell_type": "code",
   "execution_count": null,
   "metadata": {},
   "outputs": [],
   "source": [
    "# 4. Model Evaluation\n",
    "# Make predictions on the test data\n",
    "predictions = lrModel.transform(testData)\n",
    "\n",
    "# Evaluate the model using a RegressionEvaluator\n",
    "evaluator = RegressionEvaluator(labelCol=\"Domestic-2020-21\", predictionCol=\"prediction\", metricName=\"rmse\")\n",
    "rmse = evaluator.evaluate(predictions)\n",
    "print(f\"Root Mean Squared Error (RMSE): {rmse}\")\n",
    "\n",
    "# 5. Model Interpretation & Insights\n",
    "# Print the coefficients and intercept of the model\n",
    "print(f\"Coefficients: {lrModel.coefficients}\")\n",
    "print(f\"Intercept: {lrModel.intercept}\")"
   ]
  },
  {
   "cell_type": "markdown",
   "metadata": {},
   "source": [
    "# Model predictions"
   ]
  },
  {
   "cell_type": "code",
   "execution_count": null,
   "metadata": {},
   "outputs": [],
   "source": [
    "newRow = spark.createDataFrame([\n",
    "    (7632914, 1394635)\n",
    "], [\"Domestic-2019-20\", \"Foreign-2019-20\"])\n",
    "\n",
    "newRow = assembler.transform(newRow)\n",
    "prediction = lrModel.transform(newRow).select(\"prediction\")\n",
    "print(f\"Predicted Domestic Visitors in 2020-21: {prediction.first().prediction}\")"
   ]
  },
  {
   "cell_type": "code",
   "execution_count": 5,
   "metadata": {
    "executionInfo": {
     "elapsed": 25,
     "status": "ok",
     "timestamp": 1721033417487,
     "user": {
      "displayName": "Keerthi K S",
      "userId": "03494321912049532860"
     },
     "user_tz": -330
    },
    "id": "Z8cFIrvCWItO"
   },
   "outputs": [],
   "source": [
    "# RDD Operations Convert the DataFrame to an RDD\n",
    "rdd = data.rdd"
   ]
  },
  {
   "cell_type": "code",
   "execution_count": 6,
   "metadata": {
    "colab": {
     "base_uri": "https://localhost:8080/"
    },
    "executionInfo": {
     "elapsed": 1295,
     "status": "ok",
     "timestamp": 1721033418759,
     "user": {
      "displayName": "Keerthi K S",
      "userId": "03494321912049532860"
     },
     "user_tz": -330
    },
    "id": "gAO6K_aOzZ53",
    "outputId": "44afa1fd-f308-4e8e-9ca5-6ed1157703ea"
   },
   "outputs": [
    {
     "name": "stdout",
     "output_type": "stream",
     "text": [
      "Total Foreign Visitors in 2020-21: 415859\n"
     ]
    }
   ],
   "source": [
    "#  Calculate the total foreign visitors in 2020-21\n",
    "total_foreign_2020_21 = rdd.map(lambda x: x[\"Foreign-2020-21\"]).sum()\n",
    "print(f\"Total Foreign Visitors in 2020-21: {total_foreign_2020_21}\")"
   ]
  },
  {
   "cell_type": "code",
   "execution_count": 7,
   "metadata": {
    "colab": {
     "base_uri": "https://localhost:8080/"
    },
    "executionInfo": {
     "elapsed": 2887,
     "status": "ok",
     "timestamp": 1721033421642,
     "user": {
      "displayName": "Keerthi K S",
      "userId": "03494321912049532860"
     },
     "user_tz": -330
    },
    "id": "67J1_kqj19Zw",
    "outputId": "4b6d098a-6ab2-49d7-ccd6-b0dddde9b2ee"
   },
   "outputs": [
    {
     "name": "stdout",
     "output_type": "stream",
     "text": [
      "City with the Highest Number of Monuments:\n",
      "   Circle  count\n",
      "0  Mumbai     13\n"
     ]
    }
   ],
   "source": [
    "# Find the city with the highest number of monuments\n",
    "city_monument_count = data.groupBy(\"Circle\").count().orderBy(\"count\", ascending=False).limit(1).toPandas()\n",
    "print(\"City with the Highest Number of Monuments:\")\n",
    "print(city_monument_count)"
   ]
  },
  {
   "cell_type": "code",
   "execution_count": 8,
   "metadata": {
    "colab": {
     "base_uri": "https://localhost:8080/"
    },
    "executionInfo": {
     "elapsed": 820,
     "status": "ok",
     "timestamp": 1721033422458,
     "user": {
      "displayName": "Keerthi K S",
      "userId": "03494321912049532860"
     },
     "user_tz": -330
    },
    "id": "EFdVo_4Q19-x",
    "outputId": "e995feb5-aa46-4032-a25e-b02d75728e53"
   },
   "outputs": [
    {
     "name": "stdout",
     "output_type": "stream",
     "text": [
      "Total Domestic Visitors in 2019-20: 43607075\n"
     ]
    }
   ],
   "source": [
    "# Calculate the total number of domestic visitors in 2019-20\n",
    "total_domestic_2019_20 = rdd.map(lambda x: x[\"Domestic-2019-20\"]).sum()\n",
    "print(f\"Total Domestic Visitors in 2019-20: {total_domestic_2019_20}\")\n",
    "\n"
   ]
  },
  {
   "cell_type": "code",
   "execution_count": 9,
   "metadata": {
    "colab": {
     "base_uri": "https://localhost:8080/"
    },
    "executionInfo": {
     "elapsed": 523,
     "status": "ok",
     "timestamp": 1721033422977,
     "user": {
      "displayName": "Keerthi K S",
      "userId": "03494321912049532860"
     },
     "user_tz": -330
    },
    "id": "8coZ3DrD1-JE",
    "outputId": "c1d74600-a8f5-4d14-be9c-eaa84aff17e3"
   },
   "outputs": [
    {
     "name": "stdout",
     "output_type": "stream",
     "text": [
      "Average Foreign Visitors in 2019-20: 19142.784722222234\n"
     ]
    }
   ],
   "source": [
    "import matplotlib.pyplot as plt\n",
    "\n",
    "\n",
    "# Calculate the average foreign visitors in 2019-20\n",
    "avg_foreign_2019_20 = rdd.map(lambda x: x[\"Foreign-2019-20\"]).mean()\n",
    "# # Create a histogram of domestic visitors in 2019-20\n",
    "# plt.hist(data.toPandas()[\"Domestic-2019-20\"], bins=50)\n",
    "# plt.title(\"Distribution of Domestic Visitors in 2019-20\")\n",
    "# plt.xlabel(\"Number of Visitors\")\n",
    "# plt.ylabel(\"Frequency\")\n",
    "# plt.show()\n",
    "print(f\"Average Foreign Visitors in 2019-20: {avg_foreign_2019_20}\")\n"
   ]
  },
  {
   "cell_type": "code",
   "execution_count": 10,
   "metadata": {
    "colab": {
     "base_uri": "https://localhost:8080/",
     "height": 684
    },
    "executionInfo": {
     "elapsed": 3710,
     "status": "ok",
     "timestamp": 1721033426683,
     "user": {
      "displayName": "Keerthi K S",
      "userId": "03494321912049532860"
     },
     "user_tz": -330
    },
    "id": "jtEAqn9zfUfl",
    "outputId": "fe1a30a1-82ff-4a1c-989f-b6bea5c98588"
   },
   "outputs": [
    {
     "name": "stdout",
     "output_type": "stream",
     "text": [
      "Top 5 Monuments with Highest Domestic Visitors in 2019-20:\n",
      "mattancherry Palace Museum Kochi: 300465\n",
      "Western Group of Temples, Khajuraho: 244995\n",
      "Warangal: 92690\n",
      "Upper Fort Aguada: 837898\n",
      "Undavalli caves: 109307\n",
      "Top 5 Monuments with Highest Domestic Visitors in 2020-21:\n",
      "mattancherry Palace Museum Kochi: 23026\n",
      "Western Group of Temples, Khajuraho: 128515\n",
      "Warangal: 64339\n",
      "Upper Fort Aguada: 379726\n",
      "Undavalli caves: 52924\n"
     ]
    },
    {
     "data": {
      "image/png": "[encoded data removed]",
      "text/plain": [
       "<Figure size 640x480 with 1 Axes>"
      ]
     },
     "metadata": {},
     "output_type": "display_data"
    }
   ],
   "source": [
    "import numpy as np\n",
    "from pyspark.sql.functions import col\n",
    "\n",
    "\n",
    "# Calculate the top 5 monuments with the highest domestic visitors in 2019-20\n",
    "top_5_monuments = rdd.map(lambda x: (x[\"Name of the Monument \"], x[\"Domestic-2019-20\"])).sortByKey(ascending=False).take(5)\n",
    "print(\"Top 5 Monuments with Highest Domestic Visitors in 2019-20:\")\n",
    "for monument, visitors in top_5_monuments:\n",
    "    print(f\"{monument}: {visitors}\")\n",
    "\n",
    "# Calculate the top 5 monuments with the highest domestic visitors in 2020-21\n",
    "top_5_monuments = rdd.map(lambda x: (x[\"Name of the Monument \"], x[\"Domestic-2020-21\"])).sortByKey(ascending=False).take(5)\n",
    "print(\"Top 5 Monuments with Highest Domestic Visitors in 2020-21:\")\n",
    "for monument, visitors in top_5_monuments:\n",
    "    print(f\"{monument}: {visitors}\")\n",
    "\n",
    "# Get the top 5 monuments with highest domestic visitors in 2019-20 and 2020-21\n",
    "top_5_monuments_2019_20 = data.select(\"Name of the Monument \", \"Domestic-2019-20\").orderBy(col(\"Domestic-2019-20\").desc()).limit(5).toPandas()\n",
    "top_5_monuments_2020_21 = data.select(\"Name of the Monument \", \"Domestic-2020-21\").orderBy(col(\"Domestic-2020-21\").desc()).limit(5).toPandas()\n",
    "\n",
    "# Create a double bar chart\n",
    "x = np.arange(len(top_5_monuments_2019_20))\n",
    "width = 0.35\n",
    "\n",
    "fig, ax = plt.subplots()\n",
    "rects1 = ax.bar(x - width/2, top_5_monuments_2019_20[\"Domestic-2019-20\"], width, label='2019-20')\n",
    "rects2 = ax.bar(x + width/2, top_5_monuments_2020_21[\"Domestic-2020-21\"], width, label='2020-21')\n",
    "\n",
    "ax.set_ylabel('Number of Visitors')\n",
    "ax.set_title('Top 5 Monuments with Highest Domestic Visitors in 2019-20 and 2020-21')\n",
    "ax.set_xticks(x)\n",
    "ax.set_xticklabels(top_5_monuments_2019_20[\"Name of the Monument \"])\n",
    "\n",
    "ax.legend()\n",
    "\n",
    "plt.show()"
   ]
  },
  {
   "cell_type": "code",
   "execution_count": 11,
   "metadata": {
    "colab": {
     "base_uri": "https://localhost:8080/"
    },
    "executionInfo": {
     "elapsed": 1367,
     "status": "ok",
     "timestamp": 1721033428042,
     "user": {
      "displayName": "Keerthi K S",
      "userId": "03494321912049532860"
     },
     "user_tz": -330
    },
    "id": "zQOkReVYfUTk",
    "outputId": "7d2e3860-0508-4420-c45c-0458d9f79feb"
   },
   "outputs": [
    {
     "name": "stdout",
     "output_type": "stream",
     "text": [
      "Top 5 Monuments with Highest Foreign Visitors in 2019-20:\n",
      "\n",
      "\n",
      "mattancherry Palace Museum Kochi: 79355\n",
      "Western Group of Temples, Khajuraho: 41741\n",
      "Warangal: 277\n",
      "Upper Fort Aguada: 8104\n",
      "Undavalli caves: 494\n",
      "Top 5 Monuments with Highest Foreign Visitors in 2020-21:\n",
      "mattancherry Palace Museum Kochi: 177\n",
      "Western Group of Temples, Khajuraho: 275\n",
      "Warangal: 54\n",
      "Upper Fort Aguada: 340\n",
      "Undavalli caves: 89\n"
     ]
    }
   ],
   "source": [
    "# Calculate the top 5 monuments with the highest foreign visitors in 2019-20\n",
    "top_5_monuments = rdd.map(lambda x: (x[\"Name of the Monument \"], x[\"Foreign-2019-20\"])).sortByKey(ascending=False).take(5)\n",
    "print(\"Top 5 Monuments with Highest Foreign Visitors in 2019-20:\\n\\n\")\n",
    "for monument, visitors in top_5_monuments:\n",
    "    print(f\"{monument}: {visitors}\")\n",
    "\n",
    "# Calculate the top 5 monuments with the highest foreign visitors in 2020-21\n",
    "top_5_monuments = rdd.map(lambda x: (x[\"Name of the Monument \"], x[\"Foreign-2020-21\"])).sortByKey(ascending=False).take(5)\n",
    "print(\"Top 5 Monuments with Highest Foreign Visitors in 2020-21:\")\n",
    "for monument, visitors in top_5_monuments:\n",
    "    print(f\"{monument}: {visitors}\")"
   ]
  },
  {
   "cell_type": "code",
   "execution_count": 12,
   "metadata": {
    "colab": {
     "base_uri": "https://localhost:8080/",
     "height": 452
    },
    "executionInfo": {
     "elapsed": 1559,
     "status": "ok",
     "timestamp": 1721033429597,
     "user": {
      "displayName": "Keerthi K S",
      "userId": "03494321912049532860"
     },
     "user_tz": -330
    },
    "id": "uI5P7Fzk2N_p",
    "outputId": "020cb427-0eae-4770-f245-8a652100e069"
   },
   "outputs": [
    {
     "data": {
      "image/png": "[encoded data removed]",
      "text/plain": [
       "<Figure size 640x480 with 1 Axes>"
      ]
     },
     "metadata": {},
     "output_type": "display_data"
    }
   ],
   "source": [
    "import numpy as np\n",
    "\n",
    "# Get the top 5 monuments with highest foreign visitors in 2019-20 and 2020-21\n",
    "top_5_monuments_2019_20 = data.select(\"Name of the Monument \", \"Foreign-2019-20\").orderBy(col(\"Foreign-2019-20\").desc()).limit(5).toPandas()\n",
    "top_5_monuments_2020_21 = data.select(\"Name of the Monument \", \"Foreign-2020-21\").orderBy(col(\"Foreign-2020-21\").desc()).limit(5).toPandas()\n",
    "\n",
    "# Create a double bar chart\n",
    "x = np.arange(len(top_5_monuments_2019_20))\n",
    "width = 0.35\n",
    "\n",
    "fig, ax = plt.subplots()\n",
    "rects1 = ax.bar(x - width/2, top_5_monuments_2019_20[\"Foreign-2019-20\"], width, label='2019-20')\n",
    "rects2 = ax.bar(x + width/2, top_5_monuments_2020_21[\"Foreign-2020-21\"], width, label='2020-21')\n",
    "\n",
    "ax.set_ylabel('Number of Visitors')\n",
    "ax.set_title('Top 5 Monuments with Highest Foreign Visitors in 2019-20 and 2020-21')\n",
    "ax.set_xticks(x)\n",
    "ax.set_xticklabels(top_5_monuments_2019_20[\"Name of the Monument \"])\n",
    "\n",
    "ax.legend()\n",
    "\n",
    "plt.show()"
   ]
  },
  {
   "cell_type": "code",
   "execution_count": 13,
   "metadata": {
    "colab": {
     "base_uri": "https://localhost:8080/"
    },
    "executionInfo": {
     "elapsed": 790,
     "status": "ok",
     "timestamp": 1721033430379,
     "user": {
      "displayName": "Keerthi K S",
      "userId": "03494321912049532860"
     },
     "user_tz": -330
    },
    "id": "4NEI7Mj8WjmS",
    "outputId": "9b57f261-ddfe-4647-bf32-ceb4062a3d55"
   },
   "outputs": [
    {
     "name": "stdout",
     "output_type": "stream",
     "text": [
      "Most Visited Monument by Foreigners in 2020-21:\n",
      "mattancherry Palace Museum Kochi: 177\n"
     ]
    }
   ],
   "source": [
    "most_visited_foreign_2020_21 = rdd.map(lambda x: (x[\"Name of the Monument \"], x[\"Foreign-2020-21\"])).sortByKey(ascending=False).take(1)\n",
    "print(\"Most Visited Monument by Foreigners in 2020-21:\")\n",
    "for monument, visitors in most_visited_foreign_2020_21:\n",
    "    print(f\"{monument}: {visitors}\")\n",
    "\n"
   ]
  },
  {
   "cell_type": "code",
   "execution_count": 14,
   "metadata": {
    "colab": {
     "base_uri": "https://localhost:8080/",
     "height": 444
    },
    "executionInfo": {
     "elapsed": 826,
     "status": "ok",
     "timestamp": 1721033431199,
     "user": {
      "displayName": "Keerthi K S",
      "userId": "03494321912049532860"
     },
     "user_tz": -330
    },
    "id": "_8rET8JnzwqR",
    "outputId": "0cc1234f-d14f-42db-f3d6-d02ae8093af6"
   },
   "outputs": [
    {
     "data": {
      "image/png": "[encoded data removed]",
      "text/plain": [
       "<Figure size 700x500 with 1 Axes>"
      ]
     },
     "metadata": {},
     "output_type": "display_data"
    }
   ],
   "source": [
    "\n",
    "# Get the top 10 monuments with the most visitors in 2019-20\n",
    "top_monuments = data.toPandas().sort_values(by='Domestic-2019-20', ascending=False).head(10)\n",
    "\n",
    "# Create a pie chart\n",
    "plt.figure(figsize=(7,5))\n",
    "plt.pie(top_monuments['Domestic-2019-20'], labels = top_monuments['Name of the Monument '], autopct='%1.1f%%')\n",
    "plt.title(\"Top 10 Monuments Visited in 2019-20\")\n",
    "plt.show()"
   ]
  },
  {
   "cell_type": "code",
   "execution_count": 15,
   "metadata": {
    "colab": {
     "base_uri": "https://localhost:8080/"
    },
    "executionInfo": {
     "elapsed": 554,
     "status": "ok",
     "timestamp": 1721033431745,
     "user": {
      "displayName": "Keerthi K S",
      "userId": "03494321912049532860"
     },
     "user_tz": -330
    },
    "id": "TIcfs3qHyzlw",
    "outputId": "28ac3561-8df4-4a61-cea7-a7e3f444c551"
   },
   "outputs": [
    {
     "name": "stdout",
     "output_type": "stream",
     "text": [
      "City with the Greatest Drop in Tourism in 2020-21:\n",
      "Vadodara: 1867\n"
     ]
    }
   ],
   "source": [
    "#  Find the city which has suffered a great drop in tourism in the year 2020-21 due to pandemic as compared to 2019-20\n",
    "city_drop = rdd.map(lambda x: (x[\"Circle\"], x[\"Foreign-2019-20\"] - x[\"Foreign-2020-21\"])).sortByKey(ascending=False).take(1)\n",
    "print(\"City with the Greatest Drop in Tourism in 2020-21:\")\n",
    "for circle, drop in city_drop:\n",
    "    print(f\"{circle}: {drop}\")\n"
   ]
  },
  {
   "cell_type": "code",
   "execution_count": 16,
   "metadata": {
    "colab": {
     "base_uri": "https://localhost:8080/"
    },
    "executionInfo": {
     "elapsed": 7,
     "status": "ok",
     "timestamp": 1721033431745,
     "user": {
      "displayName": "Keerthi K S",
      "userId": "03494321912049532860"
     },
     "user_tz": -330
    },
    "id": "cGsG2_BXzGZd",
    "outputId": "4aed98f4-885a-4baa-e4cf-9e72cc25bce7"
   },
   "outputs": [
    {
     "name": "stdout",
     "output_type": "stream",
     "text": [
      "Most Loved Monument from Both Years:\n",
      "mattancherry Palace Museum Kochi: 403023\n"
     ]
    }
   ],
   "source": [
    "# Most loved monument from both years combined\n",
    "most_loved_monument = rdd.map(lambda x: (x[\"Name of the Monument \"], x[\"Domestic-2019-20\"] + x[\"Foreign-2019-20\"] + x[\"Domestic-2020-21\"] + x[\"Foreign-2020-21\"])).sortByKey(ascending=False).take(1)\n",
    "print(\"Most Loved Monument from Both Years:\")\n",
    "for monument, visitors in most_loved_monument:\n",
    "    print(f\"{monument}: {visitors}\")"
   ]
  },
  {
   "cell_type": "code",
   "execution_count": null,
   "metadata": {
    "executionInfo": {
     "elapsed": 1076,
     "status": "ok",
     "timestamp": 1721033432817,
     "user": {
      "displayName": "Keerthi K S",
      "userId": "03494321912049532860"
     },
     "user_tz": -330
    },
    "id": "ntlSqs0ayz2p"
   },
   "outputs": [],
   "source": [
    "\n",
    "spark.stop()"
   ]
  }
 ],
 "metadata": {
  "colab": {
   "authorship_tag": "ABX9TyMNnRjB1NbNSgbmbr7YR/VX",
   "provenance": []
  },
  "kernelspec": {
   "display_name": ".venv",
   "language": "python",
   "name": "python3"
  },
  "language_info": {
   "codemirror_mode": {
    "name": "ipython",
    "version": 3
   },
   "file_extension": ".py",
   "mimetype": "text/x-python",
   "name": "python",
   "nbconvert_exporter": "python",
   "pygments_lexer": "ipython3",
   "version": "3.12.3"
  }
 },
 "nbformat": 4,
 "nbformat_minor": 4
}
